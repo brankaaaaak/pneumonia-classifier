{
 "cells": [
  {
   "cell_type": "markdown",
   "id": "933055e1",
   "metadata": {},
   "source": [
    "# Klasifikacija medicinskih snimaka pluća sa ciljem otkrivanja pneumonije\n",
    "\n",
    "Cilj projekta je razvoj modela dubokog učenja koji automatski prepoznaje pneumoniju \n",
    "na rendgenskim snimcima pluća koristeći:\n",
    "- Konvolucione neuronske mreže (CNN)\n",
    "- Transfer Learning pristup (ResNet50 i Fine-Tuning)\n",
    "\n",
    "Projekat pokazuje proces:\n",
    "1. Pripreme i augmentacije podataka  \n",
    "2. Treniranja modela od nule (CNN)  \n",
    "3. Primjene transfer learninga (ResNet50 i Fine-Tuning)  \n",
    "4. Evaluacije i poređenja rezultata  \n"
   ]
  },
  {
   "cell_type": "markdown",
   "id": "09fabb88",
   "metadata": {},
   "source": [
    "## 1. Priprema i augmentacija podataka"
   ]
  },
  {
   "cell_type": "markdown",
   "id": "378f49b0",
   "metadata": {},
   "source": [
    "PODJELA PODATAKA NA SKUPOVE:\n",
    "\n",
    "Podaci su podijeljeni po principu 70-15-15, što podrazumijeva 70% podataka u trening skupu, namijenjenom za učenje, zatim 15% podataka u validacionom skupu, namijenjenom za praćenje tokom učenja i 15% podataka u test skupu za konačnu provjeru performansi."
   ]
  },
  {
   "cell_type": "markdown",
   "id": "7cc5324c",
   "metadata": {},
   "source": [
    "AUGMENTACIJA SLIKA:\n",
    "\n",
    "Kako bi se povećala sposobnost generalizacije modela i spriječio overfitting, tokom treniranja je uz pomoć **ImageDataGenerator** klase biblioteke Keras odrađena augmentacija."
   ]
  },
  {
   "cell_type": "code",
   "execution_count": null,
   "id": "dc5f490b",
   "metadata": {},
   "outputs": [],
   "source": [
    "from tensorflow.keras.preprocessing.image import ImageDataGenerator\n",
    "\n",
    "train_datagen = ImageDataGenerator(\n",
    "        rescale=1./255,\n",
    "        rotation_range=25,\n",
    "        width_shift_range=0.15,\n",
    "        height_shift_range=0.15,\n",
    "        shear_range=0.1,\n",
    "        zoom_range=0.2,\n",
    "        brightness_range=[0.8, 1.2],\n",
    "        horizontal_flip=True,\n",
    "        fill_mode='nearest'\n",
    "    )"
   ]
  },
  {
   "cell_type": "markdown",
   "id": "244cc222",
   "metadata": {},
   "source": [
    "- rescale = 1./255 \n",
    "Svaka slika ima vrijednost piksela od 0 do 255. Ovime su se vrijednosti normalizovale u opseg [0,1], a razlog je što neuronske mreže imaju tendenciju da daju bolje rezultate kada su ulazi normalizovani.\n",
    "- rotation_range = 25 \n",
    "Ovime se svaka slika nasumično rotira u opsegu ±25 stepeni, sa ciljem uvođenja varijabilnosti u podatke za trening, kako bi se smanjila osjetljivost modela na orijentaciju.\n",
    "- width_shift_range = 0.15 \n",
    "Ovime se nasumično pomijeraju slike po širini, do 15% ukupne širine slike. Time model uči da model ne mora biti savšeno centriran (u konkretnom slučaju, pacijent nije savršeno postavljen pred rendgen aparat).\n",
    "- height_shift_range = 0.15 \n",
    "Ovime se nasumično pomijeraju slike po visini do 15%. Svrha je ista kao i kod prethodnog, da model ne zavisi od pozicije  pluća na slici. \n",
    "- shear_range = 0.1\n",
    "Ovime se postiže blaga deformacija oblika, pa se dodatno povećava raznolikost ulaznih podataka.\n",
    "- zoom_range = 0.2 \n",
    "Ovime se slika umanjuje ili uvećava do 20%, sa ciljem simuliranja blizine pacijenta od rendgen aparata. \n",
    "- brightness_range = [0.8, 1.2] \n",
    "Ovime se mijenja osvjetljenje slike, čineći je nasumično svjetlijom ili tamnijom, što pomaže modelu da nauči da zanemari promjene u osvjetljenju i da se fokusira na strukturalne obrasce.\n",
    "- horizontal_flip = True  \n",
    "Ovime se, budući da rendgenski snimak nema horizontalnu asimetriju, postiže raznovrsnost, bez gubitka značenja.\n",
    "- fill_mode = ‘nearest’ \n",
    "Kada se slike zumiraju, pomijeraju ili rotiraju, može doći do pojave ,,praznih’’ oblasti, pa se s tim u vezi koristi ova opcija, kako bi se te praznine popunile vrijednostima najbližih piksela.\n",
    "\n",
    "Ove transformacije omogućavaju da model vidi različite varijacije istih snimaka i bolje nauči kako pneumonija može izgledati u različitim slučajevima.\n"
   ]
  },
  {
   "cell_type": "markdown",
   "id": "7769947c",
   "metadata": {},
   "source": [
    "## 2. Kreiranje modela od nule (CNN)\n",
    "U prvom dijelu projekta razvijen je model konvolucione neuronske mreže CNN, koji za zadatak ima klasifikaciju rendgen snimaka u dvije kategorije: NORMAL i PNEUMONIA. CNN modeli su izuzetno pogodni za obradu slika jer automatski uče karakteristike iz piksela slike. \n",
    "Glavni dio u izgradnji jeste `build_cnn(image_size)`."
   ]
  },
  {
   "cell_type": "code",
   "execution_count": null,
   "id": "6eaee38f",
   "metadata": {},
   "outputs": [],
   "source": [
    "from tensorflow.keras import layers, models, regularizers\n",
    "from tensorflow.keras.optimizers import Adam\n",
    "\n",
    "def build_cnn(image_size):\n",
    "    model = models.Sequential([\n",
    "        layers.Input(shape=(*image_size, 3)),\n",
    "\n",
    "        layers.Conv2D(32, (3,3), padding='same', activation='relu'),\n",
    "        layers.BatchNormalization(),\n",
    "        layers.MaxPooling2D((2,2)),\n",
    "\n",
    "        layers.Conv2D(64, (3,3), padding='same', activation='relu'),\n",
    "        layers.BatchNormalization(),\n",
    "        layers.MaxPooling2D((2,2)),\n",
    "\n",
    "        layers.Conv2D(128, (3,3), padding='same', activation='relu'),\n",
    "        layers.BatchNormalization(),\n",
    "        layers.MaxPooling2D((2,2)),\n",
    "\n",
    "        layers.Conv2D(256, (3,3), padding='same', activation='relu'),\n",
    "        layers.BatchNormalization(),\n",
    "        layers.MaxPooling2D((2,2)),\n",
    "\n",
    "        layers.Flatten(),\n",
    "\n",
    "        layers.Dense(256, activation='relu', kernel_regularizer=regularizers.l2(0.001)),\n",
    "        layers.BatchNormalization(),\n",
    "        layers.Dropout(0.5),\n",
    "\n",
    "        layers.Dense(128, activation='relu', kernel_regularizer=regularizers.l2(0.001)),\n",
    "        layers.Dropout(0.5), \n",
    "\n",
    "        layers.Dense(1, activation='sigmoid')\n",
    "    ])\n",
    "\n",
    "    optimizer = Adam(learning_rate=5e-5)  \n",
    "\n",
    "    model.compile(\n",
    "        optimizer=optimizer,\n",
    "        loss='binary_crossentropy',\n",
    "        metrics=['accuracy']\n",
    "    )\n",
    "    return model"
   ]
  },
  {
   "cell_type": "markdown",
   "id": "3a6fe817",
   "metadata": {},
   "source": [
    "Cilj funkcije je da se od nule izgradi kovulaciona neuronska mreža sposobna da samostalno nauči vizuelne obrasce karakteristične za zdrava i oboljela pluća. Ideja je da model postepeno ,,uči’’ od jedostavnih ka složenim karakteristikama, kroz više hijerarhijskih slojeva konvoluacije.\n",
    "\n",
    "Logika iza strukture modela:\n",
    "\n",
    "1.\t**Ulazni sloj:** Mreža prima slike veličine 224x224x3 (RGB format, iako su rendgenske slike monohromatske, ali se radi konverzija radi kompatibilnosti sa Keras API-jem). \n",
    "2.\t**Prvi konvoluacicioni sloj:**  U prvom sloju se koristi 32 filtera dimenzije 3x3. Ovaj sloj detektuje osnovne oblike i ivice u slikama, što je prva faza u ,,vizuelnom učenju’’.  BatchNormalization() tehnikom noramalizacije se postiže brže i stabilnije treniranje. MaxPooling2D((2,2)) redukuje prostorne dimenzije slike. \n",
    "3.\t**Naredni slojevi:** Svaki sledeći sloj povećava broj filtera (64, 128, 256), čime mreža uči sve složenije vizuelne obrasce: konture pluća, obrasce zadebljanja, promjene teksture i kontrasta unutar tkiva. ReLU se koristi za uvođenje nelinearnosti i poboljšavanje brzine konvergencije. \n",
    "4.\t**Flatten sloj:** Nakon što su sve prostorne karakteristike ,,izvučene’’, ovaj sloj pretvara podatke u jedno-dimenzionalni niz, pogodan za ulaz u Dense slojeve.\n",
    "5.\t**Dense slojevi:** Prvi Dense sloj ima 256 neurona i koristi L2 regulaciju da ograniči težine i na taj način spriječi overfitting.  Nakon toga slijedi BatchNormalization i Dropout(0.5) koji nasumično isključuje 50% neurona, sa ciljem poboljšavanja sposobnosti generalizacije. Sledeći Dense sloj (sa 128 neurona) dodatno prorjeđuje mrežu prije konačne odluke. \n",
    "6.\t**Izlazni sloj:** Sigmod funkcija daje rezultat u opsegu [0,1], koji se tumači kao vjerovatnoća da slika prikazuje pluća pacijenta sa pneumonijom. \n",
    "\n",
    "Način na koji će mreža učiti:\n",
    "\n",
    "- Optimizacija – Adam optimizer:\n",
    "Za treniranje modela korišćen je Adam optimizator, jer automatski prilagođava korake učenja tokom treniranja i dobro funkcioniše i na velikim i na neuravnoteženim skupovima. U ovom slučaju korišćen je learning_rate vrijednosti 5e-5. Razlog odabira relativno male vrijednosti je eksperimentalno utvrđen, jer mali learning_rate omogućava postepenije i u ovom slučaju preciznije učenje. \n",
    "- Gubitak (loss):\n",
    "Pošto se radi o binarnoj klasifikaciji (NORMAL/PNEUMONIA), korišćena je binary crossentropy funkcija gubitka. Ona mjeri koliko su predikcije modela udaljene od stvarnih oznaka. Što je loss manji – to je model bolji. \n",
    "- Metrika – Accuracy:\n",
    "Kao dodatna mjera praćenja performansi koristi se tačnost (accuracy), koja pokazuje procenat ispravno klasifikovanih slika tokom treninga i validacije.\n"
   ]
  },
  {
   "cell_type": "markdown",
   "id": "aab82fa8",
   "metadata": {},
   "source": [
    "Proces treniranja modela\n",
    "Nakon definisanja arhitekture konvulacione neuronske mreže, slijedi faza treniranja (učenja) modela nad pripremljenim skupom podataka. Cilj procesa jeste da model optimizuje svoje parametre tako da minimizuje grešku između stvarnih oznaka (NORMAL/PNEUMONIA) i svojih predviđanja. \n",
    "U okviru koda, treniranje se odvija u funkciji `train_model(model, train_gen, val_gen, epochs)` a ključni su balansiranje klasa, definisanje callback mehanizma i sprovođenje samog učenja putem model.fit(). "
   ]
  },
  {
   "cell_type": "code",
   "execution_count": null,
   "id": "a8fa6acc",
   "metadata": {},
   "outputs": [],
   "source": [
    "from sklearn.utils.class_weight import compute_class_weight\n",
    "from tensorflow.keras.callbacks import EarlyStopping, ModelCheckpoint, ReduceLROnPlateau\n",
    "import numpy as np\n",
    "\n",
    "def train_model(model, train_gen, val_gen, epochs):\n",
    "    class_weights = compute_class_weight(\n",
    "        class_weight='balanced',\n",
    "        classes=np.unique(train_gen.classes),\n",
    "        y=train_gen.classes\n",
    "    )\n",
    "    class_weights = dict(enumerate(class_weights))\n",
    "    print(\"Class Weights:\", class_weights)\n",
    "\n",
    "    callbacks = [\n",
    "        EarlyStopping(monitor='val_loss', patience=8, restore_best_weights=True),\n",
    "        ModelCheckpoint('best_pneumonia_model.keras', save_best_only=True),\n",
    "        ReduceLROnPlateau(monitor='val_loss', factor=0.3, patience=2, min_lr=1e-6)\n",
    "    ]\n",
    "\n",
    "    history = model.fit(\n",
    "        train_gen,\n",
    "        validation_data=val_gen,\n",
    "        epochs=epochs,\n",
    "        callbacks=callbacks,\n",
    "        class_weight=class_weights\n",
    "    )\n",
    "    return history"
   ]
  },
  {
   "cell_type": "markdown",
   "id": "affa4e11",
   "metadata": {},
   "source": [
    "- **Balansiranje klasa – Class Weights:**\n",
    "Da bi se ublažila pristrasnost uzrokovana neuravnoteženim klasama, u toku treniranja modela primjenjen je pristup class_weight. Funkcija compute_class_weight iz sklearn.utils izračunava težinu za svaku klasu tako da rijeđa klasa dobija veću težinu pri ažuriranju grešalka u toku treninga, kako bi svaka greška doprinjela gubitku proporcionalno zastupljenosti svoje klase. \n",
    "\n",
    "- **Callback:**\n",
    "Callback funkcije prate proces treniranja i automatski reaguju kada se ispune određeni uslovi. \n",
    "1. EarlyStopping zaustavlja treniranje ako se validacioni gubitak ne poboljša tokom 8 uzastopnih epoha. Time se sprječava overfitting. Parametar restore_best_weights = True vraća mrežu na stanje u kojem je imala najbolje rezultate na validacionom skupu. \n",
    "2. ModelCheckpoint čuva model svaki put kada dostigne najbolju validacionu tačnost. Time se obezbjeđuje da čak i ako kasnije epohe pogoršaju rezultate, najbolja verzija modela ostaje sačuvana kao best_pneumonia_model.keras. \n",
    "3. ReduceLROnPlateau automatski smanjuje learning rate za 30% ako validacioni gubitak stagnira tokom dvije epohe. To omogućava finije prilagođavanje težina u kasnijim fazama treniranja, kada se model već približio optimumu. \n",
    "- **Proces treniranja:**\n",
    "Na kraju, treniranje se sprovodi pozivom model.fit. Ova funkcija prolazi kroz sve slike u trening skupu u više epoha (do 30 puta), dok u svakoj epohi: koristi train_gen za učenje na augmentovanim podacima, provjerava performanse na val_gen skupu i automatski primjenjuje callback mehanizme.\n"
   ]
  },
  {
   "cell_type": "markdown",
   "id": "e11ca9db",
   "metadata": {},
   "source": [
    "## 3. Primjene transfer learninga (ResNet50 i Fine-Tuning)  \n",
    "Naredni korak, u cilju poboljšanja rezultata pri dijagnostifikovanja pneumonije, jeste primjena Transfer Learning – tehnike učenja pri kojoj se koristi unaprijed istreniran model na velikom skupu podataka, i taj model se prilagođava za konkretni zadatak. \n",
    "Treniranje dubokih neuronskih mreža od nule zahtijeva ogroman broj podataka i računarske resurse. Transfer learning omogućava iskorišćavanje prethodno naučenih vizuelnih karakteristika (ivica, oblika, tekstura), brže konvergiranje modela i bolju generalizaciju. \n",
    "\n",
    "Za osnovu modela korišćena je arhitektura ResNet50. \n",
    "\n",
    "ResNet50 arhitektura poznata je po korišćenju ,,residual connections” sa ciljem rješavanja problema degradacije u dubokim neuronskim mrežama, na način da omogućavaju direktan protok informacija kroz tzv. ,,skip’’ konekcije.\n"
   ]
  },
  {
   "cell_type": "markdown",
   "id": "a1f91882",
   "metadata": {},
   "source": [
    "**Prva faza:**\n",
    "\n",
    "U prvoj fazi transfer learning pristupa model ResNet50 se koristi kao feature extraction, što znači da se svi njegovi slojevi ,,zamrzavaju’’ i koristi se samo njegova sposobnost da prepozna opšte vizuelne obrasce: base_model.trainable = False. Dakle, osnovna mreža sada sadrži karakteristike koje su generalno korisne za različite specifične zadatke. "
   ]
  },
  {
   "cell_type": "code",
   "execution_count": null,
   "id": "467a25e3",
   "metadata": {},
   "outputs": [],
   "source": [
    "from tensorflow.keras.applications import ResNet50\n",
    "\n",
    "def build_resnet_transfer(image_size):\n",
    "    base_model = ResNet50(\n",
    "        weights='imagenet',\n",
    "        include_top=False,\n",
    "        input_shape=(*image_size, 3)\n",
    "    )\n",
    "    base_model.trainable = False  \n",
    "\n",
    "    inputs = layers.Input(shape=(*image_size, 3))\n",
    "    x = base_model(inputs, training=False)\n",
    "    x = layers.GlobalAveragePooling2D()(x)\n",
    "    x = layers.Dense(256, activation='relu')(x)\n",
    "    x = layers.BatchNormalization()(x)\n",
    "    x = layers.Dropout(0.5)(x)\n",
    "    outputs = layers.Dense(1, activation='sigmoid')(x)\n",
    "\n",
    "    model = models.Model(inputs=inputs, outputs=outputs)\n",
    "\n",
    "    optimizer = Adam(learning_rate=1e-4)\n",
    "    model.compile(optimizer=optimizer, loss='binary_crossentropy', metrics=['accuracy'])\n",
    "    return model\n"
   ]
  },
  {
   "cell_type": "markdown",
   "id": "389b40fc",
   "metadata": {},
   "source": [
    "Ovi slojevi predstavljaju novu glavu mreže, koja ima zadatak da koristi već izdvojene karakteristike i donese konačnu odluku – PNEUMONIA ili NORMAL. Tokom treniranja se takođe koriste EarlyStopping, ModelCheckpoint, ReduceLROnPlateau. \n",
    "Cilj ove faze jeste isključivo prilagođavanje novih slojeva na vrhu mreže – dok se osnovni slojevi ResNet-a ne mijenjaju. Model uči kako da koristi već izdvojene opšte karakteristike slike za prepoznavanje konkretnih obrazaca na rendgenskim snimcima pluća. \n"
   ]
  },
  {
   "cell_type": "markdown",
   "id": "f13a131a",
   "metadata": {},
   "source": [
    "**Druga faza:**\n",
    "\n",
    "Druga faza jeste fine-tuning ResNet50 modela, sa ciljem poboljšanja rezultata dijagnostike. Učitava se prethodno sačuvan model best_pneumonia_resnet.keras i otključava posljednjih 30 slojeva u ResNet50 mreži. Cilj je da se najdublji slojevi dodatno prilagode medicinskim karakteristikama snimaka, jer oni uče najapstraktnije obrasce. \n",
    "Koristi se mnogo manji learning rate (5e-6) jer model već ima stabilne težine i sada su potrebne suptilne korekcije. Ponovo se primjenjuju callback funkcije, sada sa manjim patience parametrima. \n",
    "Cilj jeste da se poboljša preciznost i da sada model ,,nauči” da razlikuje fine nijanse u teksturi i kontrastu plućnog tkiva, koje su ključne za prepoznavanje pneumonije. \n"
   ]
  },
  {
   "cell_type": "code",
   "execution_count": null,
   "id": "64c1db65",
   "metadata": {},
   "outputs": [],
   "source": [
    "from tensorflow.keras.models import load_model\n",
    "\n",
    "def fine_tune_resnet(model_path):\n",
    "    model = load_model(model_path)\n",
    "\n",
    "    base_model = None\n",
    "    for layer in model.layers:\n",
    "        if isinstance(layer, models.Model):\n",
    "            base_model = layer\n",
    "            break\n",
    "\n",
    "    if base_model is None:\n",
    "        raise ValueError(\"Base model (ResNet) not found!\")\n",
    "\n",
    "    for layer in base_model.layers[:-30]:\n",
    "        layer.trainable = False\n",
    "    for layer in base_model.layers[-30:]:\n",
    "        layer.trainable = True\n",
    "\n",
    "    model.compile(optimizer=Adam(learning_rate=5e-6),\n",
    "                  loss='binary_crossentropy',\n",
    "                  metrics=['accuracy'])\n",
    "    model.summary()\n",
    "    return model"
   ]
  },
  {
   "cell_type": "markdown",
   "id": "25f436a6",
   "metadata": {},
   "source": [
    "Dvostepeni pristup (feature ectraction + fine-tuning) pokazao se efikasnim jer kombinuje brzu konvergenciju i specifično prilagođavanje."
   ]
  },
  {
   "cell_type": "markdown",
   "id": "20e78060",
   "metadata": {},
   "source": [
    "## 4. Evaluacija i poređenje rezultata\n",
    "\n",
    "Nakon treninga sva tri modela (CNN od nule, ResNet50 i fine-tuned ResNet50), sprovedena je evaluacija na nezavisnom test skupu pomoću metrika test accuracy, test loss, AUC score, F1-score."
   ]
  },
  {
   "cell_type": "markdown",
   "id": "be4176c6",
   "metadata": {},
   "source": [
    "Za evaluaciju modela koristila se `evaluate_model(model, test_gen)` funkcija. Ova funkcija služi za **procjenu performansi modela na test skupu** i prikaz glavnih metrika i grafika.  \n",
    "\n",
    "- Evaluacija modela pomoću `model.evaluate(test_gen)` izračunava ukupni *test loss* i *test accuracy*\n",
    "- Predikcija klasa pomoću `model.predict()` dobija se vjerovatnoća da slika prikazuje pneumoniju.\n",
    "- Izvještaj o klasifikaciji - ispisuje se `classification_report`\n",
    "- Confusion Matriks prikazuje broj ispravnih i pogrešnih predikcija po klasama.  \n",
    "- ROC kriva i AUC vrijednost - ROC (Receiver Operating Characteristic) kriva prikazuje kompromis između *true positive rate* i *false positive rate*, što je kriva bliža gornjem lijevom uglu, model je bolji. AUC (Area Under Curve) pokazuje ukupnu sposobnost modela da razlikuje dvije klase (bliže 1 → bolji model).  \n"
   ]
  },
  {
   "cell_type": "code",
   "execution_count": null,
   "id": "603537f5",
   "metadata": {},
   "outputs": [],
   "source": [
    "from sklearn.metrics import classification_report, confusion_matrix, roc_curve, auc\n",
    "import matplotlib.pyplot as plt\n",
    "import seaborn as sns\n",
    "\n",
    "def evaluate_model(model, test_gen):\n",
    "    test_loss, test_acc = model.evaluate(test_gen)\n",
    "    print(f\"\\n Test Accuracy: {test_acc:.4f}, Test Loss: {test_loss:.4f}\")\n",
    "\n",
    "    y_pred = model.predict(test_gen)\n",
    "    y_pred_classes = (y_pred > 0.5).astype(\"int32\").flatten()\n",
    "    y_true = test_gen.classes\n",
    "\n",
    "    print(\"\\n Classification Report:\")\n",
    "    print(classification_report(y_true, y_pred_classes, target_names=list(test_gen.class_indices.keys())))\n",
    "\n",
    "    cm = confusion_matrix(y_true, y_pred_classes)\n",
    "    plt.figure(figsize=(5,4))\n",
    "    sns.heatmap(cm, annot=True, fmt=\"d\", cmap=\"Blues\",\n",
    "                xticklabels=test_gen.class_indices.keys(),\n",
    "                yticklabels=test_gen.class_indices.keys())\n",
    "    plt.xlabel(\"Predicted\")\n",
    "    plt.ylabel(\"True\")\n",
    "    plt.title(\"Confusion Matrix\")\n",
    "    plt.show()\n",
    "\n",
    "    fpr, tpr, thresholds = roc_curve(y_true, y_pred)\n",
    "    roc_auc = auc(fpr, tpr)\n",
    "\n",
    "    plt.figure(figsize=(6,5))\n",
    "    plt.plot(fpr, tpr, color='blue', lw=2, label=f\"ROC Curve (AUC = {roc_auc:.3f})\")\n",
    "    plt.plot([0, 1], [0, 1], color='gray', linestyle='--')\n",
    "    plt.xlabel('False Positive Rate')\n",
    "    plt.ylabel('True Positive Rate')\n",
    "    plt.title('Receiver Operating Characteristic (ROC Curve)')\n",
    "    plt.legend(loc=\"lower right\")\n",
    "    plt.show()\n",
    "\n",
    "    print(f\" AUC Score: {roc_auc:.3f}\")"
   ]
  }
 ],
 "metadata": {
  "kernelspec": {
   "display_name": "venv",
   "language": "python",
   "name": "python3"
  },
  "language_info": {
   "codemirror_mode": {
    "name": "ipython",
    "version": 3
   },
   "file_extension": ".py",
   "mimetype": "text/x-python",
   "name": "python",
   "nbconvert_exporter": "python",
   "pygments_lexer": "ipython3",
   "version": "3.10.8"
  }
 },
 "nbformat": 4,
 "nbformat_minor": 5
}
