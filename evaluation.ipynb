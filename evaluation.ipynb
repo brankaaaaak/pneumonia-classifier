{
 "cells": [
  {
   "cell_type": "markdown",
   "id": "12432b4e",
   "metadata": {},
   "source": [
    "# Poređenje rezultata"
   ]
  },
  {
   "cell_type": "markdown",
   "id": "dbabf9cd",
   "metadata": {},
   "source": [
    "## CNN model treniran od nule"
   ]
  },
  {
   "cell_type": "markdown",
   "id": "7ea89383",
   "metadata": {},
   "source": [
    "Tokom treniranja, vidi se da model brzo uči u prvim epohama – tačnost na treningu i validaciji raste do oko 0.86, a gubitak se stabilizuje nakon približno 10 epoha. Kriva validacione tačnosti je blizu trening krive, što ukazuje da nema značajnog overfittinga. Blago povećanje validacionog gubitka nakon 15. epohe pokazuje da je EarlyStopping ispravno zaustavio obuku u trenutku kada se model više nije poboljšavao.\n",
    "\n",
    "<div style=\"text-align: center;\">\n",
    "  <img src=\"images/cnn.jpg\" style=\"width: 600px; height: 300px\">\n",
    "</div>"
   ]
  },
  {
   "cell_type": "markdown",
   "id": "9e7b5457",
   "metadata": {},
   "source": [
    "Model treniran od nule pokazao je visoku tačnost i dobar balans između klasa, uz nešto veći loss koji ukazuje da su greške modela još uvijek prisutne kod složenijih uzoraka. Najveći broj grešaka odnosi se na lažno negativne slučajeve (59 slučajeva PNEUMONIA predviđeno kao NORMAL), što je u medicinskom kontekstu važan nalaz.\n",
    "\n",
    "ROC kriva pokazuje solidnu sposobnost razlikovanja klasa, sa AUC vrijednošću od 0.977.\n",
    "\n",
    "<div style=\"display: flex; gap: 50px;\">\n",
    "\n",
    "  <img src=\"images/cnn_confusion_matrix.png\" alt=\"Confusion Matrix\" width=\"400\"/>\n",
    "  <img src=\"images/cnn_roc.png\" alt=\"ROC Curve\" width=\"400\"/>\n",
    "\n",
    "</div>\n"
   ]
  },
  {
   "cell_type": "markdown",
   "id": "480f62d1",
   "metadata": {},
   "source": [
    "## Transfer Learning - ResNet50 (Faza 1)"
   ]
  },
  {
   "cell_type": "markdown",
   "id": "22fc3545",
   "metadata": {},
   "source": [
    "Na grafikonu se vidi da model vrlo brzo dostiže visoku tačnost u prvim epohama (iznad 0.8), ali validaciona kriva osciluje, što ukazuje na ograničenu sposobnost prilagođavanja — svi slojevi ResNet50 mreže bili su zamrznuti. Zbog toga model koristi unaprijed naučene karakteristike sa ImageNet skupa, ali ne uči dovoljno domensko-specifične obrasce karakteristične za rendgenske snimke pluća.\n",
    "\n",
    "\n",
    "<div style=\"text-align: center;\">\n",
    "  <img src=\"images/resnet.jpg\" style=\"width: 600px; height: 300px\">\n",
    "</div>"
   ]
  },
  {
   "cell_type": "markdown",
   "id": "ab4bdba3",
   "metadata": {},
   "source": [
    "Iako loss djeluje nizak, test tačnost je manja nego kod CNN modela. Model značajno bolje prepoznaje PNEUMONIA klasu (recall 0.99), ali ima problem s razlikovanjem NORMAL snimaka (recall 0.43). Model ima tendenciju da prepoznaje više slika kao PNEUMONIA nego što zapravo jeste.\n",
    "\n",
    "AUC rezultat od 0.953 potvrđuje visoku sposobnost razlikovanja između zdravih i oboljelih pacijenata, ali ipak nižu preciznost u odnosu na CNN. \n",
    "<div style=\"display: flex; gap: 50px;\">\n",
    "\n",
    "  <img src=\"images/resnet_confusion_matrix.png\" alt=\"Confusion Matrix\" width=\"400\"/>\n",
    "  <img src=\"images/resnet_roc.png\" alt=\"ROC Curve\" width=\"400\"/>\n",
    "\n",
    "</div>"
   ]
  },
  {
   "cell_type": "markdown",
   "id": "90ddfffd",
   "metadata": {},
   "source": [
    "## Transfer Learning - Fine-Tuned ResNet50 (Faza 2)"
   ]
  },
  {
   "cell_type": "markdown",
   "id": "96cbb837",
   "metadata": {},
   "source": [
    "U drugoj fazi transfer learning pristupa, otključano je 30 najdubljih slojeva ResNet50 mreže, što je omogućilo da model fino prilagodi svoje težine rendgenskim slikama. Otključavanjem posljednjih slojeva mreže i dodatnim treniranjem sa manjom brzinom učenja, model uspijeva da se bolje prilagodi karakteristikama rendgenskih snimaka.\n",
    "\n",
    "Rezultat pokazuje najveću tačnost, najniži test gubitak i najbolji balans između preciznosti i odziva.\n",
    "\n",
    "\n",
    "<div style=\"text-align: center;\">\n",
    "  <img src=\"images/fine-tuned.jpg\" style=\"width: 600px; height: 300px\">\n",
    "</div>"
   ]
  },
  {
   "cell_type": "markdown",
   "id": "151c84d1",
   "metadata": {},
   "source": [
    "Fine-tuning je doveo do najboljih ukupnih rezultata. \n",
    "ROC kriva Fine-tuned modela dostiže AUC od 0.974 što je pokazatelj dobre sposobnosti razlikovanja klasa. \n",
    "\n",
    "\n",
    "<div style=\"display: flex; gap: 50px;\">\n",
    "\n",
    "  <img src=\"images/fine-tuned-confusion_matrix.png\" alt=\"Confusion Matrix\" width=\"400\"/>\n",
    "  <img src=\"images/fine-tuned-roc.png\" alt=\"ROC Curve\" width=\"400\"/>\n",
    "\n",
    "</div>"
   ]
  },
  {
   "cell_type": "markdown",
   "id": "63f662c3",
   "metadata": {},
   "source": [
    "## Poređenje tri modela"
   ]
  },
  {
   "cell_type": "markdown",
   "id": "a1596dc0",
   "metadata": {},
   "source": [
    "<table style=\"width:100%; border-collapse: collapse; font-family: Arial, sans-serif; font-size: 14px; text-align: center;\" border=\"1\">\n",
    "  <thead style=\"background-color: #4e5480ff; color: white;\">\n",
    "    <tr>\n",
    "      <th style=\"padding: 10px;\">Model</th>\n",
    "      <th>Test Accuracy</th>\n",
    "      <th>Test Loss</th>\n",
    "      <th>AUC Score</th>\n",
    "      <th>F1-score (NORMAL)</th>\n",
    "      <th>F1-score (PNEUMONIA)</th>\n",
    "      <th>Recall (NORMAL)</th>\n",
    "      <th>Recall (PNEUMONIA)</th>\n",
    "      <th>Opis</th>\n",
    "    </tr>\n",
    "  </thead>\n",
    "  <tbody>\n",
    "    <tr>\n",
    "      <td><strong>CNN</strong></td>\n",
    "      <td>0.9192</td>\n",
    "      <td>0.8639</td>\n",
    "      <td><strong>0.977</strong></td>\n",
    "      <td>0.86</td>\n",
    "      <td>0.94</td>\n",
    "      <td><strong>0.95</strong></td>\n",
    "      <td>0.91</td>\n",
    "      <td>stabilan model, dobro generalizuje, veći loss</td>\n",
    "    </tr>\n",
    "    <tr>\n",
    "      <td><strong>ResNet</strong></td>\n",
    "      <td>0.8350</td>\n",
    "      <td>0.3125</td>\n",
    "      <td>0.953</td>\n",
    "      <td>0.58</td>\n",
    "      <td>0.90</td>\n",
    "      <td>0.43</td>\n",
    "      <td><strong>0.99</strong></td>\n",
    "      <td>brzo učenje, ali pristrasnost prema PNEUMONIA</td>\n",
    "    </tr>\n",
    "    <tr>\n",
    "      <td><strong style=\"color: #626bf6ff;\">Fine-Tuned</strong></td>\n",
    "      <td><strong style=\"color: #626bf6ff;\">0.9272</strong></td>\n",
    "      <td><strong style=\"color: #626bf6ff;\">0.1933</strong></td>\n",
    "      <td><strong style=\"color: #626bf6ff;\">0.974</strong></td>\n",
    "      <td><strong style=\"color: #626bf6ff;\">0.87</strong></td>\n",
    "      <td><strong style=\"color: #626bf6ff;\">0.95</strong></td>\n",
    "      <td><strong style=\"color: #626bf6ff;\">0.90</strong></td>\n",
    "      <td><strong style=\"color: #626bf6ff;\">0.94</strong></td>\n",
    "      <td><strong style=\"color: #626bf6ff;\">najbolji balans</strong></td>\n",
    "    </tr>\n",
    "  </tbody>\n",
    "</table>\n"
   ]
  },
  {
   "cell_type": "markdown",
   "id": "f764ed71",
   "metadata": {},
   "source": [
    "Važno je napomenuti da je Recall posebno značajna metrika u ovom kontekstu - ona mjeri osjetljivost modela, tj. koliko tačno model prepoznaje pozitivne slučajeve (pacijente sa pneumonijom)."
   ]
  }
 ],
 "metadata": {
  "kernelspec": {
   "display_name": "venv",
   "language": "python",
   "name": "python3"
  },
  "language_info": {
   "name": "python",
   "version": "3.10.8"
  }
 },
 "nbformat": 4,
 "nbformat_minor": 5
}
